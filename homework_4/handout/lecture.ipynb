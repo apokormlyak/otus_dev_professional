{
 "cells": [
  {
   "cell_type": "markdown",
   "metadata": {},
   "source": [
    "# #5. Automatization"
   ]
  },
  {
   "cell_type": "markdown",
   "metadata": {},
   "source": [
    "0. [Motivation](#Motivation)\n",
    "1. [Networking](#Networking)\n",
    "    1. [socket](#socket)\n",
    "    2. [TCP](#TCP)\n",
    "    3. [UDP](#UDP)\n",
    "    4. [HTTP](#HTTP)\n",
    "    5. [web-servers](#web-servers)\n",
    "2. [Databases](#Databases)\n",
    "    1. [DB API](#DB-API)\n",
    "    2. [Libraries](#Libraries)\n",
    "    3. [ping-reconnect](#ping-reconnect)\n",
    "    4. [Timeouts and retries](#Timeouts-and-retries)\n",
    "    5. [Slow quries](#Slow-quries)\n",
    "    6. [SQL-injections](#SQL-injections)\n",
    "    7. [Concurrent access](#Concurrent-access)\n",
    "    8. [Connection pool](#Connection-pool)\n",
    "    9. [Caching](#Caching)\n",
    "3. [Daemons](#Daemons)\n",
    "    1. [Daemonization](#Daemonization)\n",
    "    2. [Config](#Config)\n",
    "    3. [Logging](#Logging)\n",
    "4. [Deployment](#Deployment)\n",
    "    1. [Python-only](#Python-only)\n",
    "    2. [Linux distribution](#Linux-distribution)"
   ]
  },
  {
   "cell_type": "markdown",
   "metadata": {},
   "source": [
    "## Motivation"
   ]
  },
  {
   "cell_type": "markdown",
   "metadata": {},
   "source": [
    "__Goal__"
   ]
  },
  {
   "cell_type": "markdown",
   "metadata": {},
   "source": [
    "Получить знания об особенносятх сетевого взаимодействия, изучить нюансы общения со сторонними сервисами и создания собственных"
   ]
  },
  {
   "cell_type": "markdown",
   "metadata": {},
   "source": [
    "__Homework__"
   ]
  },
  {
   "cell_type": "markdown",
   "metadata": {},
   "source": [
    "HTTP Server"
   ]
  },
  {
   "cell_type": "markdown",
   "metadata": {},
   "source": [
    "## Networking"
   ]
  },
  {
   "cell_type": "markdown",
   "metadata": {
    "collapsed": true,
    "jupyter": {
     "outputs_hidden": true
    }
   },
   "source": [
    "#### socket"
   ]
  },
  {
   "cell_type": "code",
   "execution_count": null,
   "metadata": {},
   "outputs": [],
   "source": [
    "import socket\n",
    "\n",
    "class Connection(object):\n",
    "    '''\\\n",
    "    Represents connection to the Tarantool server.\n",
    "\n",
    "    This class is responsible for connection and network exchange with the server.\n",
    "    Also this class provides low-level interface to data manipulation (insert/delete/update/select).\n",
    "    '''\n",
    "\n",
    "    def __init__(self, host, port,\n",
    "                 socket_timeout=SOCKET_TIMEOUT,\n",
    "                 reconnect_max_attempts=RECONNECT_MAX_ATTEMPTS,\n",
    "                 reconnect_delay=RECONNECT_DELAY,\n",
    "                 connect_now=True,\n",
    "                 schema=None):\n",
    "        '''\\\n",
    "        Initialize a connection to the server.\n",
    "\n",
    "        :param str host: Server hostname or IP-address\n",
    "        :param int port: Server port\n",
    "        :param bool connect_now: if True (default) than __init__() actually creates network connection.\n",
    "                             if False than you have to call connect() manualy.\n",
    "        :param schema: Data schema (see Developer guide and :class:`~tarantool.schema.Schema`)\n",
    "        :type schema: :class:`~tarantool.schema.Schema` or dict\n",
    "        '''\n",
    "        self.host = host\n",
    "        self.port = port\n",
    "        self.socket_timeout = socket_timeout\n",
    "        self.reconnect_delay = reconnect_delay\n",
    "        self.reconnect_max_attempts = reconnect_max_attempts\n",
    "        if isinstance(schema, Schema):\n",
    "            self.schema = schema\n",
    "        else:\n",
    "            self.schema = Schema(schema)\n",
    "        self._socket = None\n",
    "        if connect_now:\n",
    "            self.connect()\n",
    "\n",
    "\n",
    "    def close(self):\n",
    "        '''\\\n",
    "        Close connection to the server\n",
    "        '''\n",
    "        self._socket.close()\n",
    "        self._socket = None\n",
    "\n",
    "\n",
    "    def connect(self):\n",
    "        '''\\\n",
    "        Create connection to the host and port specified in __init__().\n",
    "        Usually there is no need to call this method directly,\n",
    "        since it is called when you create an `Connection` instance.\n",
    "\n",
    "        :raise: `NetworkError`\n",
    "        '''\n",
    "\n",
    "        try:\n",
    "            # If old socket already exists - close it and re-create\n",
    "            if self._socket:\n",
    "                self._socket.close()\n",
    "            self._socket = socket.socket(socket.AF_INET, socket.SOCK_STREAM)\n",
    "            self._socket.setsockopt(socket.SOL_TCP, socket.TCP_NODELAY, 1)\n",
    "            #self._socket.setsockopt(socket.SOL_TCP, socket.SO_REUSEADDR, 1)\n",
    "            #self._socket.setsockopt(socket.SOL_TCP, socket.SO_REUSEPORT, 1)\n",
    "            self._socket.connect((self.host, self.port))\n",
    "            # It is important to set socket timeout *after* connection.\n",
    "            # Otherwise the timeout exception will rised, even if the server does not listen\n",
    "            self._socket.settimeout(self.socket_timeout)\n",
    "        except socket.error as e:\n",
    "            raise NetworkError(e)\n",
    "\n",
    "\n",
    "    def _read_response(self):\n",
    "        '''\n",
    "        Read response from the transport (socket)\n",
    "\n",
    "        :return: tuple of the form (header, body)\n",
    "        :rtype: tuple of two byte arrays\n",
    "        '''\n",
    "\n",
    "        buf = ''\n",
    "        l = 12\n",
    "\n",
    "        while True:\n",
    "            r = self._socket.recv(l - len(buf))\n",
    "            if not r:\n",
    "                err = socket.error(\"Connection reset by peer\")\n",
    "                err.errno = errno.ECONNRESET\n",
    "                raise err\n",
    "            buf += r\n",
    "            if len(buf) < l:\n",
    "                continue\n",
    "\n",
    "            l = 12 + struct_L.unpack(buf[4:8])[0] # struct.unpack(\"<Q\", buf[4:8])[0]\n",
    "\n",
    "            if len(buf) < l:\n",
    "                continue\n",
    "\n",
    "            return buf[0:12], buf[12:]\n",
    "\n",
    "        \n",
    "    def _send_request_wo_reconnect(self, request, space_name = None, field_defs = None, default_type = None):\n",
    "        '''\\\n",
    "        :rtype: `Response` instance\n",
    "\n",
    "        :raise: NetworkError\n",
    "        '''\n",
    "        assert isinstance(request, Request)\n",
    "\n",
    "        # Repeat request in a loop if the server returns completion_status == 1 (try again)\n",
    "        for attempt in xrange(self.RETRY_MAX_ATTEMPTS):    # pylint: disable=W0612\n",
    "            try:\n",
    "                self._socket.sendall(bytes(request))\n",
    "                header, body = self._read_response()\n",
    "                response = Response(self, header, body, space_name, field_defs, default_type)\n",
    "            except socket.error as e:\n",
    "                raise NetworkError(e)\n",
    "\n",
    "            if response.completion_status != 1:\n",
    "                return response\n",
    "            warn(response.return_message, RetryWarning)\n",
    "\n",
    "        # Raise an error if the maximum number of attempts have been made\n",
    "        raise DatabaseError(response.return_code, response.return_message)"
   ]
  },
  {
   "cell_type": "markdown",
   "metadata": {},
   "source": [
    "Socket is not file object but `makefile` fixes it\n",
    "* It's easy to write programs that mysteriously \"freeze up\" or don't operate quite like you would expect"
   ]
  },
  {
   "cell_type": "code",
   "execution_count": null,
   "metadata": {
    "collapsed": true,
    "jupyter": {
     "outputs_hidden": true
    }
   },
   "outputs": [],
   "source": [
    "class HTTPResponse:\n",
    "\n",
    "    # strict: If true, raise BadStatusLine if the status line can't be\n",
    "    # parsed as a valid HTTP/1.0 or 1.1 status line.  By default it is\n",
    "    # false because it prevents clients from talking to HTTP/0.9\n",
    "    # servers.  Note that a response with a sufficiently corrupted\n",
    "    # status line will look like an HTTP/0.9 response.\n",
    "\n",
    "    # See RFC 2616 sec 19.6 and RFC 1945 sec 6 for details.\n",
    "\n",
    "    def __init__(self, sock, debuglevel=0, strict=0, method=None, buffering=False):\n",
    "        if buffering:\n",
    "            # The caller won't be using any sock.recv() calls, so buffering\n",
    "            # is fine and recommended for performance.\n",
    "            self.fp = sock.makefile('rb')\n",
    "        else:\n",
    "            # The buffer size is specified as zero, because the headers of\n",
    "            # the response are read with readline().  If the reads were\n",
    "            # buffered the readline() calls could consume some of the\n",
    "            # response, which make be read via a recv() on the underlying\n",
    "            # socket.\n",
    "            self.fp = sock.makefile('rb', 0)\n",
    "        self.debuglevel = debuglevel\n",
    "        self.strict = strict\n",
    "        self._method = method\n",
    "\n",
    "        self.msg = None\n",
    "\n",
    "        # from the Status-Line of the response\n",
    "        self.version = _UNKNOWN # HTTP-Version\n",
    "        self.status = _UNKNOWN  # Status-Code\n",
    "        self.reason = _UNKNOWN  # Reason-Phrase\n",
    "\n",
    "        self.chunked = _UNKNOWN         # is \"chunked\" being used?\n",
    "        self.chunk_left = _UNKNOWN      # bytes left to read in current chunk\n",
    "        self.length = _UNKNOWN          # number of bytes left in response\n",
    "        self.will_close = _UNKNOWN      # conn will close at end of response\n",
    "\n",
    "    def _read_status(self):\n",
    "        # Initialize with Simple-Response defaults\n",
    "        line = self.fp.readline(_MAXLINE + 1)\n",
    "        if len(line) > _MAXLINE:\n",
    "            raise LineTooLong(\"header line\")\n",
    "        if self.debuglevel > 0:\n",
    "            print \"reply:\", repr(line)\n",
    "        if not line:\n",
    "            # Presumably, the server closed the connection before\n",
    "            # sending a valid response.\n",
    "            raise BadStatusLine(line)\n",
    "        try:\n",
    "            [version, status, reason] = line.split(None, 2)\n",
    "        except ValueError:\n",
    "            try:\n",
    "                [version, status] = line.split(None, 1)\n",
    "                reason = \"\"\n",
    "            except ValueError:\n",
    "                # empty version will cause next test to fail and status\n",
    "                # will be treated as 0.9 response.\n",
    "                version = \"\"\n",
    "        if not version.startswith('HTTP/'):\n",
    "            if self.strict:\n",
    "                self.close()\n",
    "                raise BadStatusLine(line)\n",
    "            else:\n",
    "                # assume it's a Simple-Response from an 0.9 server\n",
    "                self.fp = LineAndFileWrapper(line, self.fp)\n",
    "                return \"HTTP/0.9\", 200, \"\"\n",
    "\n",
    "        # The status code is a three-digit number\n",
    "        try:\n",
    "            status = int(status)\n",
    "            if status < 100 or status > 999:\n",
    "                raise BadStatusLine(line)\n",
    "        except ValueError:\n",
    "            raise BadStatusLine(line)\n",
    "        return version, status, reason"
   ]
  },
  {
   "cell_type": "markdown",
   "metadata": {},
   "source": [
    "Be aware that reading/writing to a socket may involve partial data transfer\n",
    "* send() returns actual bytes sent\n",
    "    * you want to use s.sendall(data) - blocks until all is sent\n",
    "* recv() length is only a maximum limit\n",
    "    * will return empty string when connections has been closed\n",
    "* for TCP, the data stream is continuous - no concept of records, etc."
   ]
  },
  {
   "cell_type": "code",
   "execution_count": null,
   "metadata": {
    "collapsed": true,
    "jupyter": {
     "outputs_hidden": true
    }
   },
   "outputs": [],
   "source": [
    ">>> len(data)\n",
    "1000000\n",
    ">>> s.send(data)\n",
    "37722\n",
    ">>>\n",
    ">>> data = s.recv(10000)\n",
    ">>> len(data)\n",
    "6420"
   ]
  },
  {
   "cell_type": "code",
   "execution_count": null,
   "metadata": {
    "collapsed": true,
    "jupyter": {
     "outputs_hidden": true
    }
   },
   "outputs": [],
   "source": [
    "# Client\n",
    "...\n",
    "s.send(data)\n",
    "s.send(moredata)\n",
    "...\n",
    "# Server\n",
    "...\n",
    "data = s.recv(maxsize) # This recv() may return data\n",
    "                       # from both of the sends\n",
    "                       # combined or less data than\n",
    "                       # even the first send"
   ]
  },
  {
   "cell_type": "markdown",
   "metadata": {
    "collapsed": true,
    "jupyter": {
     "outputs_hidden": true
    }
   },
   "source": [
    "#### TCP"
   ]
  },
  {
   "attachments": {
    "image007.png": {
     "image/png": "[encoded data removed]"
    }
   },
   "cell_type": "markdown",
   "metadata": {},
   "source": [
    "![tcp](attachment:image007.png)"
   ]
  },
  {
   "cell_type": "code",
   "execution_count": null,
   "metadata": {
    "collapsed": true,
    "jupyter": {
     "outputs_hidden": true
    }
   },
   "outputs": [],
   "source": [
    "from socket import *\n",
    "s = socket(AF_INET, SOCK_STREAM)\n",
    "s.bind((\"\", 9000))\n",
    "s.listen(5)\n",
    "while True:\n",
    "    c, a = s.accept()\n",
    "    print \"Received connection from\", a\n",
    "    c.sendall(\"Hello %s\\n\" % a[0])\n",
    "    c.close()"
   ]
  },
  {
   "cell_type": "code",
   "execution_count": 121,
   "metadata": {
    "collapsed": true,
    "jupyter": {
     "outputs_hidden": true
    }
   },
   "outputs": [],
   "source": [
    "def _eintr_retry(func, *args):\n",
    "    \"\"\"restart a system call interrupted by EINTR\"\"\"\n",
    "    while True:\n",
    "        try:\n",
    "            return func(*args)\n",
    "        except (OSError, select.error) as e:\n",
    "            if e.args[0] != errno.EINTR:\n",
    "                raise\n",
    "\n",
    "                \n",
    "class BaseServer:\n",
    "    timeout = None\n",
    "    def __init__(self, server_address, RequestHandlerClass):\n",
    "        \"\"\"Constructor.  May be extended, do not override.\"\"\"\n",
    "        self.server_address = server_address\n",
    "        self.RequestHandlerClass = RequestHandlerClass\n",
    "        self.__is_shut_down = threading.Event()\n",
    "        self.__shutdown_request = False\n",
    "\n",
    "    def serve_forever(self, poll_interval=0.5):\n",
    "        \"\"\"Handle one request at a time until shutdown.\n",
    "        Polls for shutdown every poll_interval seconds. Ignores\n",
    "        self.timeout. If you need to do periodic tasks, do them in\n",
    "        another thread.\n",
    "        \"\"\"\n",
    "        self.__is_shut_down.clear()\n",
    "        try:\n",
    "            while not self.__shutdown_request:\n",
    "                # XXX: Consider using another file descriptor or\n",
    "                # connecting to the socket to wake this up instead of\n",
    "                # polling. Polling reduces our responsiveness to a\n",
    "                # shutdown request and wastes cpu at all other times.\n",
    "#                 r, w, e = select.select([self], [], [], poll_interval)\n",
    "                r, w, e = _eintr_retry(select.select, [self], [], [],\n",
    "                                       poll_interval)\n",
    "                if self in r:\n",
    "                    self._handle_request_noblock()\n",
    "        finally:\n",
    "            self.__shutdown_request = False\n",
    "            self.__is_shut_down.set()\n",
    "\n",
    "    def shutdown(self):\n",
    "        \"\"\"Stops the serve_forever loop.\n",
    "        Blocks until the loop has finished. This must be called while\n",
    "        serve_forever() is running in another thread, or it will\n",
    "        deadlock.\n",
    "        \"\"\"\n",
    "        self.__shutdown_request = True\n",
    "        self.__is_shut_down.wait()\n",
    "\n",
    "    def _handle_request_noblock(self):\n",
    "        \"\"\"Handle one request, without blocking.\n",
    "        I assume that select.select has returned that the socket is\n",
    "        readable before this function was called, so there should be\n",
    "        no risk of blocking in get_request().\n",
    "        \"\"\"\n",
    "        try:\n",
    "            request, client_address = self.get_request()\n",
    "        except socket.error:\n",
    "            return\n",
    "        if self.verify_request(request, client_address):\n",
    "            try:\n",
    "                self.process_request(request, client_address)\n",
    "            except:\n",
    "                self.handle_error(request, client_address)\n",
    "                self.shutdown_request(request)\n",
    "        else:\n",
    "            self.shutdown_request(request)\n",
    "\n",
    "    def process_request(self, request, client_address):\n",
    "        \"\"\"Call finish_request.\n",
    "        Overridden by ForkingMixIn and ThreadingMixIn.\n",
    "        \"\"\"\n",
    "        self.finish_request(request, client_address)\n",
    "        self.shutdown_request(request)\n",
    "\n",
    "    def finish_request(self, request, client_address):\n",
    "        \"\"\"Finish one request by instantiating RequestHandlerClass.\"\"\"\n",
    "        self.RequestHandlerClass(request, client_address, self)"
   ]
  },
  {
   "cell_type": "code",
   "execution_count": null,
   "metadata": {},
   "outputs": [],
   "source": [
    "class TCPServer(BaseServer):\n",
    "    address_family = socket.AF_INET\n",
    "    socket_type = socket.SOCK_STREAM\n",
    "    request_queue_size = 5\n",
    "    allow_reuse_address = False\n",
    "\n",
    "    def __init__(self, server_address, RequestHandlerClass, bind_and_activate=True):\n",
    "        \"\"\"Constructor.  May be extended, do not override.\"\"\"\n",
    "        BaseServer.__init__(self, server_address, RequestHandlerClass)\n",
    "        self.socket = socket.socket(self.address_family,\n",
    "                                    self.socket_type)\n",
    "        if bind_and_activate:\n",
    "            try:\n",
    "                self.server_bind()\n",
    "                self.server_activate()\n",
    "            except:\n",
    "                self.server_close()\n",
    "                raise\n",
    "\n",
    "    def server_bind(self):\n",
    "        \"\"\"Called by constructor to bind the socket.\n",
    "        May be overridden.\n",
    "        \"\"\"\n",
    "        if self.allow_reuse_address:\n",
    "            self.socket.setsockopt(socket.SOL_SOCKET, socket.SO_REUSEADDR, 1)\n",
    "        self.socket.bind(self.server_address)\n",
    "        self.server_address = self.socket.getsockname()\n",
    "\n",
    "    def server_activate(self):\n",
    "        \"\"\"Called by constructor to activate the server.\n",
    "        May be overridden.\n",
    "        \"\"\"\n",
    "        self.socket.listen(self.request_queue_size)\n",
    "\n",
    "    def server_close(self):\n",
    "        \"\"\"Called to clean-up the server.\n",
    "        May be overridden.\n",
    "        \"\"\"\n",
    "        self.socket.close()\n",
    "\n",
    "    def fileno(self):\n",
    "        \"\"\"Return socket file number.\n",
    "        Interface required by select().\n",
    "        \"\"\"\n",
    "        return self.socket.fileno()\n",
    "\n",
    "    def get_request(self):\n",
    "        \"\"\"Get the request and client address from the socket.\n",
    "        May be overridden.\n",
    "        \"\"\"\n",
    "        return self.socket.accept()\n",
    "\n",
    "    def shutdown_request(self, request):\n",
    "        \"\"\"Called to shutdown and close an individual request.\"\"\"\n",
    "        try:\n",
    "            #explicitly shutdown.  socket.close() merely releases\n",
    "            #the socket and waits for GC to perform the actual close.\n",
    "            request.shutdown(socket.SHUT_WR)\n",
    "        except socket.error:\n",
    "            pass #some platforms may raise ENOTCONN here\n",
    "        self.close_request(request)\n",
    "\n",
    "    def close_request(self, request):\n",
    "        \"\"\"Called to clean up an individual request.\"\"\"\n",
    "        request.close()\n"
   ]
  },
  {
   "cell_type": "markdown",
   "metadata": {
    "collapsed": true,
    "jupyter": {
     "outputs_hidden": true
    }
   },
   "source": [
    "#### UDP"
   ]
  },
  {
   "attachments": {
    "image008.png": {
     "image/png": "[encoded data removed]"
    }
   },
   "cell_type": "markdown",
   "metadata": {},
   "source": [
    "![udp](attachment:image008.png)"
   ]
  },
  {
   "cell_type": "code",
   "execution_count": null,
   "metadata": {
    "collapsed": true,
    "jupyter": {
     "outputs_hidden": true
    }
   },
   "outputs": [],
   "source": [
    "# Simple server\n",
    "from socket import *\n",
    "s = socket(AF_INET, SOCK_DGRAM)\n",
    "s.bind((\"\", 10000))\n",
    "while True:\n",
    "    data, addr = s.recvfrom(maxsize)\n",
    "    resp = \"Get off my lawn!\"\n",
    "    s.sendto(resp,addr)"
   ]
  },
  {
   "cell_type": "code",
   "execution_count": null,
   "metadata": {
    "collapsed": true,
    "jupyter": {
     "outputs_hidden": true
    }
   },
   "outputs": [],
   "source": [
    "# Simple client\n",
    "from socket import *\n",
    "s = socket(AF_INET, SOCK_DGRAM)\n",
    "msg = \"Hello World\"\n",
    "s.sendto(msg,(\"server.com\", 10000))\n",
    "data, addr = s.recvfrom(maxsize)"
   ]
  },
  {
   "cell_type": "code",
   "execution_count": null,
   "metadata": {},
   "outputs": [],
   "source": [
    "class UDPServer(TCPServer):\n",
    "\n",
    "    \"\"\"UDP server class.\"\"\"\n",
    "\n",
    "    allow_reuse_address = False\n",
    "\n",
    "    socket_type = socket.SOCK_DGRAM\n",
    "\n",
    "    max_packet_size = 8192\n",
    "\n",
    "    def get_request(self):\n",
    "        data, client_addr = self.socket.recvfrom(self.max_packet_size)\n",
    "        return (data, self.socket), client_addr\n",
    "\n",
    "    def server_activate(self):\n",
    "        # No need to call listen() for UDP.\n",
    "        pass\n",
    "\n",
    "    def shutdown_request(self, request):\n",
    "        # No need to shutdown anything.\n",
    "        self.close_request(request)\n",
    "\n",
    "    def close_request(self, request):\n",
    "        # No need to close anything.\n",
    "        pass"
   ]
  },
  {
   "cell_type": "markdown",
   "metadata": {},
   "source": [
    "#### HTTP"
   ]
  },
  {
   "cell_type": "code",
   "execution_count": 125,
   "metadata": {
    "collapsed": true,
    "jupyter": {
     "outputs_hidden": true
    }
   },
   "outputs": [],
   "source": [
    "class HTTPFS:\n",
    "    def __init__(self, config):\n",
    "        self.httfs_base_url = config[\"HTTPFS\"]\n",
    "\n",
    "    def download(self, f, path, timeout=60):\n",
    "        url = urlparse.urljoin(self.httfs_base_url, f[\"path\"].lstrip(\"/\") + \"?op=OPEN\")\n",
    "        logging.info(\"Requesting %s\" % url)\n",
    "        request = urllib2.urlopen(url, timeout=timeout)\n",
    "        headers = request.info()\n",
    "        size = -1\n",
    "        if \"content-length\" in headers:\n",
    "            size = int(headers[\"content-length\"])\n",
    "        chunk_size = 1024 * 1024\n",
    "        read = 0\n",
    "        with open(path, \"w\") as fp:\n",
    "            while True:\n",
    "                chunk = request.read(chunk_size)\n",
    "                if not chunk:\n",
    "                    break\n",
    "                fp.write(chunk)\n",
    "                read += len(chunk)\n",
    "        if size > 0 and read < size:\n",
    "            raise ValueError(\"Retrieval incomplete: got only %s out of %s bytes\" % (read, size))\n",
    "\n",
    "    def query(self, url, timeout=10):\n",
    "        max_retries = 3\n",
    "        err = Exception(\"Max retries exceeded\")\n",
    "        logging.info(\"Requesting %s\" % url)\n",
    "        for _ in xrange(max_retries):\n",
    "            try:\n",
    "                return urllib2.urlopen(url, timeout=timeout).read()\n",
    "            except urllib2.URLError as err:\n",
    "                if err.errno in (errno.ETIMEDOUT, socket.EAI_NONAME):\n",
    "                    continue\n",
    "                raise\n",
    "        raise err"
   ]
  },
  {
   "cell_type": "code",
   "execution_count": null,
   "metadata": {
    "collapsed": true,
    "jupyter": {
     "outputs_hidden": true
    }
   },
   "outputs": [],
   "source": [
    "import urllib2\n",
    "\n",
    "fields = {\n",
    " 'txtUsername' : 'dave',\n",
    " 'txtPassword' : '12345',\n",
    " 'submit_login' : 'Log In'\n",
    "}\n",
    "opener = urllib2.build_opener(\n",
    "    urllib2.HTTPCookieProcessor()\n",
    ")\n",
    "request = urllib2.Request(\n",
    "    \"http://somedomain.com/login.asp\",\n",
    "     urllib.urlencode(fields)\n",
    ")\n",
    "# Login\n",
    "u = opener.open(request)\n",
    "resp = u.read()\n",
    "# Get a page, but use cookies returned by initial login\n",
    "u = opener.open(\"http://somedomain.com/private.asp\")\n",
    "resp = u.read()"
   ]
  },
  {
   "cell_type": "code",
   "execution_count": 124,
   "metadata": {},
   "outputs": [],
   "source": [
    "class Storage(object):\n",
    "    def __init__(self, host_port, conn_timeout=None, read_timeout=None, api_access=None):\n",
    "        self.host_port = host_port\n",
    "        self.session = requests.Session()\n",
    "        self.session.mount(\"http://\", requests.adapters.HTTPAdapter(max_retries=3))\n",
    "        if api_access:\n",
    "            self.session.headers.update({\"Authorization\": \"ApiKey %s:%s\" % api_access})\n",
    "        self.timeout = (conn_timeout or CONN_TIMEOUT, read_timeout or READ_TIMEOUT)\n",
    "\n",
    "    def send(self, request, **kwargs):\n",
    "        response = self.session.send(request.prepare(), timeout=self.timeout, **kwargs)\n",
    "        response.raise_for_status()\n",
    "        return response\n",
    "\n",
    "    def get(self, url):\n",
    "        request = requests.Request(\"GET\", url)\n",
    "        response = self.send(request, stream=True)\n",
    "        return response.raw\n",
    "\n",
    "    def head(self, url):\n",
    "        request = requests.Request(\"HEAD\", url)\n",
    "        try:\n",
    "            response = self.send(request)\n",
    "        except requests.HTTPError as e:\n",
    "            if e.response.status_code == 404:\n",
    "                return None\n",
    "            else:\n",
    "                raise e\n",
    "        return response.headers"
   ]
  },
  {
   "cell_type": "markdown",
   "metadata": {},
   "source": [
    "#### web-servers"
   ]
  },
  {
   "cell_type": "markdown",
   "metadata": {},
   "source": [
    "* Forking\n",
    "* Threading\n",
    "* Event-based"
   ]
  },
  {
   "cell_type": "code",
   "execution_count": null,
   "metadata": {
    "collapsed": true,
    "jupyter": {
     "outputs_hidden": true
    }
   },
   "outputs": [],
   "source": [
    "import socket\n",
    "import threading\n",
    "\n",
    "bind_ip = '0.0.0.0'\n",
    "bind_port = 9999\n",
    "\n",
    "server = socket.socket(socket.AF_INET, socket.SOCK_STREAM)\n",
    "server.bind((bind_ip, bind_port))\n",
    "server.listen(5)  # max backlog of connections\n",
    "\n",
    "print('Listening on {}:{}'.format(bind_ip, bind_port))\n",
    "\n",
    "\n",
    "def handle_client_connection(client_socket):\n",
    "    request = client_socket.recv(1024)\n",
    "    print('Received {}'.format(request))\n",
    "    client_socket.send('ACK!')\n",
    "    client_socket.close()\n",
    "\n",
    "while True:\n",
    "    client_sock, address = server.accept()\n",
    "    print('Accepted connection from {}:{}'.format(address[0], address[1]))\n",
    "    client_handler = threading.Thread(\n",
    "        target=handle_client_connection,\n",
    "        args=(client_sock,)  # without comma you'd get a... TypeError: handle_client_connection() argument after * must be a sequence, not _socketobject\n",
    "    )\n",
    "    client_handler.start()"
   ]
  },
  {
   "attachments": {
    "mt-server.svg": {
     "image/svg+xml": [
      "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"
     ]
    }
   },
   "cell_type": "markdown",
   "metadata": {},
   "source": [
    "![thread](attachment:mt-server.svg)"
   ]
  },
  {
   "attachments": {
    "mp-server.svg": {
     "image/svg+xml": [
      "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"
     ]
    }
   },
   "cell_type": "markdown",
   "metadata": {},
   "source": [
    "![forking](attachment:mp-server.svg)"
   ]
  },
  {
   "attachments": {
    "ev-server.svg": {
     "image/svg+xml": [
      "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"
     ]
    }
   },
   "cell_type": "markdown",
   "metadata": {},
   "source": [
    "![event](attachment:ev-server.svg)"
   ]
  },
  {
   "attachments": {
    "architecture.png": {
     "image/png": "[encoded data removed]"
    }
   },
   "cell_type": "markdown",
   "metadata": {},
   "source": [
    "![nginx](attachment:architecture.png)"
   ]
  },
  {
   "cell_type": "markdown",
   "metadata": {},
   "source": [
    "### References"
   ]
  },
  {
   "cell_type": "markdown",
   "metadata": {},
   "source": [
    "* https://amarchenko.dev/translate/2023-10-02-network/\n",
    "* http://www.apress.com/us/book/9781430230038\n",
    "* http://www.dabeaz.com/python/PythonNetBinder.pdf\n",
    "* http://www.tenouk.com/Module39a.html\n",
    "* https://docs.python.org/2.7/howto/sockets.html\n",
    "* https://hpbn.co/\n",
    "* http://berb.github.io/diploma-thesis/original/042_serverarch.html\n",
    "* https://www.ulduzsoft.com/2014/01/select-poll-epoll-practical-difference-for-system-architects/\n",
    "* http://www.aosabook.org/en/nginx.html\n",
    "* https://www.nginx.com/blog/inside-nginx-how-we-designed-for-performance-scale/\n",
    "* https://www.youtube.com/watch?v=aE0yawwB6h4\n",
    "* http://www.kegel.com/c10k.html\n",
    "* https://www.slideshare.net/joshzhu/nginx-internals"
   ]
  },
  {
   "cell_type": "markdown",
   "metadata": {},
   "source": [
    "### Summary"
   ]
  },
  {
   "cell_type": "markdown",
   "metadata": {},
   "source": [
    "* sockets are almost file-like, but it's get tricky fast\n",
    "* TCP is reliable stream-oriented protocol\n",
    "* UDP is unrealiable packet-oriented protocol. Faster than TCP though\n",
    "* Always use timeouts and retries\n",
    "* requests is handy but devil in the details"
   ]
  },
  {
   "cell_type": "markdown",
   "metadata": {},
   "source": [
    "## Databases"
   ]
  },
  {
   "cell_type": "markdown",
   "metadata": {},
   "source": [
    "#### DB API"
   ]
  },
  {
   "cell_type": "markdown",
   "metadata": {},
   "source": [
    "Defines a standard interface for Python database access modules. It’s documented in PEP 249. Nearly all Python database modules conform to this interface\n",
    "* MySQL\n",
    "* PostgreSQL\n",
    "* SQL Server\n",
    "* Oracle"
   ]
  },
  {
   "cell_type": "markdown",
   "metadata": {},
   "source": [
    "#### Libraries"
   ]
  },
  {
   "cell_type": "code",
   "execution_count": 47,
   "metadata": {},
   "outputs": [
    {
     "name": "stdout",
     "output_type": "stream",
     "text": [
      "Database version : 5.6.20 \n",
      "[{'rID': 201L, 'name': u'Sarah Martinez'}, {'rID': 202L, 'name': u'Daniel Lewis'}, {'rID': 203L, 'name': u'Brittany Harris'}, {'rID': 204L, 'name': u'Mike Anderson'}, {'rID': 205L, 'name': u'Chris Jackson'}, {'rID': 206L, 'name': u'Elizabeth Thomas'}, {'rID': 207L, 'name': u'James Cameron'}, {'rID': 208L, 'name': u'Ashley White'}]\n"
     ]
    }
   ],
   "source": [
    "import MySQLdb\n",
    "\n",
    "def dictfetchall(cursor):\n",
    "    \"Return all rows from a cursor as a dict\"\n",
    "    columns = [col[0] for col in cursor.description]\n",
    "    return [\n",
    "        dict(zip(columns, row))\n",
    "        for row in cursor.fetchall()\n",
    "    ]\n",
    "\n",
    "\n",
    "db = MySQLdb.connect(host=\"localhost\",user=\"root\", db=\"imdb\", charset=\"utf8\")\n",
    "cursor = db.cursor() # represent a database cursor, which is used to manage the context of a fetch operation. \n",
    "cursor.execute(\"SELECT VERSION()\")\n",
    "data = cursor.fetchone()\n",
    "print \"Database version : %s \" % data\n",
    "cursor.execute(\"SELECT * FROM Reviewer\")\n",
    "print dictfetchall(cursor)\n",
    "cursor.close()\n",
    "db.close()"
   ]
  },
  {
   "cell_type": "code",
   "execution_count": 27,
   "metadata": {},
   "outputs": [
    {
     "name": "stdout",
     "output_type": "stream",
     "text": [
      "('SELECT `t1`.`mID`, `t1`.`rID`, `t1`.`stars`, `t1`.`ratingDate` FROM `rating` AS t1 INNER JOIN `reviewer` AS t2 ON (`t2`.`rID` = `t1`.`rID`) INNER JOIN `movie` AS t3 ON (`t3`.`mID` = `t1`.`mID`) WHERE (`t1`.`stars` >= %s)', [4])\n",
      "101\n",
      "106\n",
      "108\n",
      "108\n",
      "106\n",
      "107\n"
     ]
    }
   ],
   "source": [
    "import peewee\n",
    "\n",
    "database = peewee.MySQLDatabase(\"imdb\", host=\"localhost\",user=\"root\", charset=\"utf8\")\n",
    "class BaseModel(peewee.Model):\n",
    "    class Meta:\n",
    "        database = database\n",
    "\n",
    "class Movie(BaseModel):\n",
    "    mid = peewee.IntegerField(db_column=\"mID\")\n",
    "    title = peewee.TextField()\n",
    "    year = peewee.IntegerField()\n",
    "    director = peewee.TextField()\n",
    "\n",
    "class Rating(BaseModel):\n",
    "    mid = peewee.IntegerField(db_column=\"mID\")\n",
    "    rid = peewee.IntegerField(db_column=\"rID\")\n",
    "    stars = peewee.IntegerField()\n",
    "    date = peewee.DateField(db_column=\"ratingDate\")\n",
    "    \n",
    "    class Meta:\n",
    "        primary_key = peewee.CompositeKey('mid', 'rid')\n",
    "\n",
    "class Reviewer(BaseModel):\n",
    "    rid = peewee.IntegerField(db_column=\"rID\")\n",
    "    name = peewee.TextField()\n",
    "\n",
    "q = Rating.select() \\\n",
    "    .join(Reviewer, on=(Reviewer.rid == Rating.rid)) \\\n",
    "    .join(Movie, on=(Movie.mid == Rating.mid)) \\\n",
    "    .where(Rating.stars >= 4)\n",
    "\n",
    "print q.sql()\n",
    "for r  in q:\n",
    "    print r.mid"
   ]
  },
  {
   "cell_type": "code",
   "execution_count": 34,
   "metadata": {},
   "outputs": [
    {
     "name": "stdout",
     "output_type": "stream",
     "text": [
      "Camembert\n",
      "Red Leicester\n",
      "Camembert\n",
      "Red Leicester\n",
      "Camembert\n",
      "Red Leicester\n",
      "Camembert\n",
      "Red Leicester\n",
      "\n",
      "Camembert 2\n",
      "Red Leicester 1\n",
      "Camembert 2\n",
      "Red Leicester 1\n",
      "Camembert 2\n",
      "Red Leicester 1\n",
      "Camembert 2\n",
      "Red Leicester 1\n"
     ]
    }
   ],
   "source": [
    "import datetime\n",
    "from pony import orm\n",
    "\n",
    "db = orm.Database()\n",
    "db.bind(provider='mysql', user='root', host='localhost', db='test')\n",
    "\n",
    "class Cheese(db.Entity):\n",
    "    type = orm.Required(str)\n",
    "    purchases = orm.Set(lambda: Purchase)\n",
    "\n",
    "class Customer(db.Entity):\n",
    "    name = orm.Required(str)\n",
    "    purchases = orm.Set(lambda: Purchase)\n",
    "\n",
    "class Purchase(db.Entity):\n",
    "    date = orm.Required(datetime.date)\n",
    "    customer = orm.Required(Customer)\n",
    "    cheeses = orm.Set(Cheese)\n",
    "\n",
    "db.generate_mapping(create_tables=True)\n",
    "\n",
    "camembert = Cheese(type='Camembert')\n",
    "leicester = Cheese(type='Red Leicester')\n",
    "cat = Customer(name='Cat')\n",
    "doug = Customer(name='Douglas')\n",
    "d = datetime.date(1971, 12, 18)\n",
    "day = datetime.timedelta(1)\n",
    "Purchase(date=(d - 1 * day), customer=doug, cheeses={camembert, leicester})\n",
    "Purchase(date=d, customer=cat, cheeses={camembert})\n",
    "orm.commit()\n",
    "\n",
    "yesterday = d - 2 * day \n",
    "for cheese in (\n",
    "        orm.select(p.cheeses for p in Purchase if p.date > yesterday)\n",
    "    ):\n",
    "    print(cheese.type)\n",
    "print\n",
    "\n",
    "for cheese, purchase_count in (\n",
    "        orm.left_join((c, orm.count(p))\n",
    "        for c in Cheese\n",
    "        for p in c.purchases)\n",
    "    ):\n",
    "    print cheese.type, purchase_count"
   ]
  },
  {
   "cell_type": "markdown",
   "metadata": {},
   "source": [
    "#### ping-reconnect"
   ]
  },
  {
   "cell_type": "code",
   "execution_count": 70,
   "metadata": {},
   "outputs": [
    {
     "data": {
      "text/plain": [
       "[{'name': u'Sarah Martinez', 'rID': 201L}]"
      ]
     },
     "execution_count": 70,
     "metadata": {},
     "output_type": "execute_result"
    }
   ],
   "source": [
    "from contextlib import closing\n",
    "\n",
    "class Database(object):\n",
    "    conn = None\n",
    "\n",
    "    def __init__(self, config):\n",
    "        self.host = config.get('host')\n",
    "        self.user = config.get('user')\n",
    "        self.password = config.get('password')\n",
    "        self.database = config.get('database')\n",
    "\n",
    "    def connect(self):\n",
    "        self.conn = MySQLdb.connect(host=self.host, user=self.user, db=self.database, charset='utf8')\n",
    "        self.conn.autocommit(True)  # for InnoDB\n",
    "\n",
    "    def query(self, sql):\n",
    "        try:\n",
    "            self.conn.ping()\n",
    "        except:\n",
    "            self.connect()\n",
    "        with closing(self.conn.cursor()) as cursor:\n",
    "            cursor.execute(sql)\n",
    "            return self.dictfetchall(cursor)\n",
    "\n",
    "    @staticmethod\n",
    "    def dictfetchall(cursor):\n",
    "        \"Returns all rows from a cursor as a dict\"\n",
    "        desc = cursor.description\n",
    "        return [\n",
    "            dict(zip([col[0] for col in desc], row))\n",
    "            for row in cursor.fetchall()\n",
    "        ]\n",
    "\n",
    "db = Database({\"host\": \"localhost\", \"user\": \"root\", \"database\": \"imdb\"})\n",
    "like = \"S\"\n",
    "db.query(\"SELECT * FROM Reviewer Where name LIKE '%s%%'\" % like)"
   ]
  },
  {
   "cell_type": "markdown",
   "metadata": {},
   "source": [
    "#### SQL-injections"
   ]
  },
  {
   "attachments": {
    "exploits_of_a_mom.png": {
     "image/png": "[encoded data removed]"
    }
   },
   "cell_type": "markdown",
   "metadata": {},
   "source": [
    "![sqlinj](attachment:exploits_of_a_mom.png)"
   ]
  },
  {
   "cell_type": "code",
   "execution_count": 84,
   "metadata": {},
   "outputs": [
    {
     "data": {
      "text/plain": [
       "[{'name': u'Sarah Martinez', 'rID': 201L}]"
      ]
     },
     "execution_count": 84,
     "metadata": {},
     "output_type": "execute_result"
    }
   ],
   "source": [
    "from contextlib import closing\n",
    "\n",
    "class Database(object):\n",
    "    conn = None\n",
    "\n",
    "    def __init__(self, config):\n",
    "        self.host = config.get('host')\n",
    "        self.user = config.get('user')\n",
    "        self.password = config.get('password')\n",
    "        self.database = config.get('database')\n",
    "\n",
    "    def connect(self):\n",
    "        self.conn = MySQLdb.connect(host=self.host, user=self.user, db=self.database, charset='utf8')\n",
    "        self.conn.autocommit(True)  # for InnoDB\n",
    "\n",
    "    def query(self, sql, params=()):\n",
    "        try:\n",
    "            self.conn.ping()\n",
    "        except:\n",
    "            self.connect()\n",
    "        with closing(self.conn.cursor()) as cursor:\n",
    "            cursor.execute(sql, params)\n",
    "            return self.dictfetchall(cursor)\n",
    "\n",
    "    @staticmethod\n",
    "    def dictfetchall(cursor):\n",
    "        \"Returns all rows from a cursor as a dict\"\n",
    "        desc = cursor.description\n",
    "        return [\n",
    "            dict(zip([col[0] for col in desc], row))\n",
    "            for row in cursor.fetchall()\n",
    "        ]\n",
    "\n",
    "\n",
    "db = Database({\"host\": \"localhost\", \"user\": \"root\", \"database\": \"imdb\"})\n",
    "like = \"S%\"\n",
    "db.query(\"SELECT * FROM Reviewer Where name LIKE %s\", (like,))"
   ]
  },
  {
   "cell_type": "markdown",
   "metadata": {},
   "source": [
    "#### Timeouts and retries"
   ]
  },
  {
   "cell_type": "code",
   "execution_count": 60,
   "metadata": {},
   "outputs": [],
   "source": [
    "from contextlib import closing\n",
    "\n",
    "class Database(object):\n",
    "    conn = None\n",
    "\n",
    "    def __init__(self, config):\n",
    "        self.host = config.get('host')\n",
    "        self.user = config.get('user')\n",
    "        self.password = config.get('password')\n",
    "        self.database = config.get('database')\n",
    "\n",
    "    def connect(self):\n",
    "        self.conn = MySQLdb.connect(\n",
    "            host=self.host,\n",
    "            user=self.user,\n",
    "            db=self.database,\n",
    "            connect_timeout=5,\n",
    "            charset='utf8'\n",
    "        )\n",
    "        self.conn.autocommit(True)  # for InnoDB\n",
    "\n",
    "    def query(self, sql, params=()):\n",
    "        try:\n",
    "            self.conn.ping()\n",
    "        except:\n",
    "            self.connect()\n",
    "        with closing(self.conn.cursor()) as cursor:\n",
    "            cursor.execute(sql, params)\n",
    "            return self.dictfetchall(cursor)\n",
    "\n",
    "    @staticmethod\n",
    "    def dictfetchall(cursor):\n",
    "        \"Returns all rows from a cursor as a dict\"\n",
    "        desc = cursor.description\n",
    "        return [\n",
    "            dict(zip([col[0] for col in desc], row))\n",
    "            for row in cursor.fetchall()\n",
    "        ]"
   ]
  },
  {
   "cell_type": "code",
   "execution_count": 59,
   "metadata": {
    "collapsed": true,
    "jupyter": {
     "outputs_hidden": true
    }
   },
   "outputs": [],
   "source": [
    "class ClientTarantool(object):\n",
    "    def __init__(self, host, port):\n",
    "        self.host = host\n",
    "        self.port = port\n",
    "        self._conns = []\n",
    "        self._conns.append(self.get_conn())\n",
    "\n",
    "    def get_conn(self):\n",
    "        if not self._conns:\n",
    "            while True:\n",
    "                try:\n",
    "                    return tarantool.Connection(host=self.host, port=self.port,\n",
    "                                                reconnect_delay=0.01, socket_timeout=5)\n",
    "                except Exception, e:\n",
    "                    msg = \"Cannot connect to Clients tarantool: %s\" % e\n",
    "                    print msg  # will show up at uwsgi log\n",
    "                    logging.error(msg)\n",
    "                    time.sleep(1)\n",
    "        else:\n",
    "            return self._conns.pop()"
   ]
  },
  {
   "cell_type": "code",
   "execution_count": 61,
   "metadata": {
    "collapsed": true,
    "jupyter": {
     "outputs_hidden": true
    }
   },
   "outputs": [],
   "source": [
    "def _send_request(self, request, space_name = None, field_defs = None, default_type = None):\n",
    "    '''\\\n",
    "    Send the request to the server through the socket.\n",
    "    Return an instance of `Response` class.\n",
    "\n",
    "    :param request: object representing a request\n",
    "    :type request: `Request` instance\n",
    "\n",
    "    :rtype: `Response` instance\n",
    "    '''\n",
    "    assert isinstance(request, Request)\n",
    "\n",
    "    connected = True\n",
    "    attempt = 1\n",
    "    while True:\n",
    "        try:\n",
    "            if not connected:\n",
    "                time.sleep(self.reconnect_delay)\n",
    "                self.connect()\n",
    "                connected = True\n",
    "                warn(\"Successfully reconnected\", NetworkWarning)\n",
    "            response = self._send_request_wo_reconnect(request, space_name, field_defs, default_type)\n",
    "            break\n",
    "        except NetworkError as e:\n",
    "            if attempt > self.reconnect_max_attempts:\n",
    "                raise\n",
    "            warn(\"%s : Reconnect to %s:%s attempt %d of %d\" % (e.message, self.host, self.port,\n",
    "                 attempt, self.reconnect_max_attempts), NetworkWarning)\n",
    "            attempt += 1\n",
    "            connected = False\n",
    "\n",
    "    return response"
   ]
  },
  {
   "cell_type": "code",
   "execution_count": 85,
   "metadata": {
    "collapsed": true,
    "jupyter": {
     "outputs_hidden": true
    }
   },
   "outputs": [],
   "source": [
    "class TarantoolMemcache(object):\n",
    "\n",
    "    def __init__(self, host_port, max_retries=float('inf'), silent=False):\n",
    "        import memcache\n",
    "        memcache.SERVER_MAX_KEY_LENGTH = 1000\n",
    "        self._client = memcache.Client([host_port])\n",
    "        self._srv = self._client.servers[0]\n",
    "        self.max_retries = max_retries\n",
    "        self.silent = silent\n",
    "\n",
    "    def _reconnect_wrapper(self, func):\n",
    "        def wrapper(*args, **kwargs):\n",
    "            while self.max_retries:\n",
    "                ret = func(*args, **kwargs)\n",
    "\n",
    "                if not self._srv._check_dead():\n",
    "                    return ret\n",
    "\n",
    "                if not self.silent:\n",
    "                    logging.warning(\"Tarantool %s:%s is dead. Reconnect in 1 sec\" % self._srv.address)\n",
    "                time.sleep(1)\n",
    "                self._client.forget_dead_hosts()\n",
    "                # there is a typo in python-memcached-1.43-6.el6.noarch so `forget_dead_hosts` wont work\n",
    "                self._srv.deaduntil = 0\n",
    "                self.max_retries -= 1\n",
    "            else:\n",
    "                raise TarantoolException(\"Failed to execute request\")\n",
    "        return wrapper\n",
    "\n",
    "    def __getattr__(self, attr):\n",
    "        a = getattr(self._client, attr)\n",
    "        if attr in (\"get\", \"get_multi\", \"set\", \"set_multi\", \"delete\", \"delete_multi\", \"add\"):\n",
    "            return self._reconnect_wrapper(a)\n",
    "        return a\n",
    "\n",
    "    def __del__(self, *args, **kwargs):\n",
    "        try:\n",
    "            self._client.disconnect_all()\n",
    "        except:\n",
    "            pass"
   ]
  },
  {
   "cell_type": "markdown",
   "metadata": {},
   "source": [
    "#### Slow quries"
   ]
  },
  {
   "cell_type": "code",
   "execution_count": 68,
   "metadata": {},
   "outputs": [
    {
     "name": "stdout",
     "output_type": "stream",
     "text": [
      "Successfully connected with id 54\n",
      "Killing 54\n"
     ]
    },
    {
     "ename": "OperationalError",
     "evalue": "(2013, 'Lost connection to MySQL server during query')",
     "output_type": "error",
     "traceback": [
      "\u001b[0;31m---------------------------------------------------------------------------\u001b[0m",
      "\u001b[0;31mOperationalError\u001b[0m                          Traceback (most recent call last)",
      "\u001b[0;32m<ipython-input-68-a2e16196ad27>\u001b[0m in \u001b[0;36m<module>\u001b[0;34m()\u001b[0m\n\u001b[1;32m     64\u001b[0m \u001b[0;34m\u001b[0m\u001b[0m\n\u001b[1;32m     65\u001b[0m \u001b[0mdb\u001b[0m \u001b[0;34m=\u001b[0m \u001b[0mDatabase\u001b[0m\u001b[0;34m(\u001b[0m\u001b[0;34m{\u001b[0m\u001b[0;34m\"host\"\u001b[0m\u001b[0;34m:\u001b[0m \u001b[0;34m\"localhost\"\u001b[0m\u001b[0;34m,\u001b[0m \u001b[0;34m\"user\"\u001b[0m\u001b[0;34m:\u001b[0m \u001b[0;34m\"root\"\u001b[0m\u001b[0;34m,\u001b[0m \u001b[0;34m\"database\"\u001b[0m\u001b[0;34m:\u001b[0m \u001b[0;34m\"imdb\"\u001b[0m\u001b[0;34m}\u001b[0m\u001b[0;34m)\u001b[0m\u001b[0;34m\u001b[0m\u001b[0m\n\u001b[0;32m---> 66\u001b[0;31m \u001b[0mdb\u001b[0m\u001b[0;34m.\u001b[0m\u001b[0mquery\u001b[0m\u001b[0;34m(\u001b[0m\u001b[0;34m\"SELECT SLEEP(5)\"\u001b[0m\u001b[0;34m)\u001b[0m\u001b[0;34m\u001b[0m\u001b[0m\n\u001b[0m",
      "\u001b[0;32m<ipython-input-68-a2e16196ad27>\u001b[0m in \u001b[0;36mquery\u001b[0;34m(self, sql, params)\u001b[0m\n\u001b[1;32m     50\u001b[0m                 \u001b[0;32mreturn\u001b[0m \u001b[0mself\u001b[0m\u001b[0;34m.\u001b[0m\u001b[0mdictfetchall\u001b[0m\u001b[0;34m(\u001b[0m\u001b[0mcursor\u001b[0m\u001b[0;34m)\u001b[0m\u001b[0;34m\u001b[0m\u001b[0m\n\u001b[1;32m     51\u001b[0m         \u001b[0;32mexcept\u001b[0m \u001b[0mException\u001b[0m\u001b[0;34m,\u001b[0m \u001b[0me\u001b[0m\u001b[0;34m:\u001b[0m\u001b[0;34m\u001b[0m\u001b[0m\n\u001b[0;32m---> 52\u001b[0;31m             \u001b[0;32mraise\u001b[0m \u001b[0me\u001b[0m\u001b[0;34m\u001b[0m\u001b[0m\n\u001b[0m\u001b[1;32m     53\u001b[0m         \u001b[0;32mfinally\u001b[0m\u001b[0;34m:\u001b[0m\u001b[0;34m\u001b[0m\u001b[0m\n\u001b[1;32m     54\u001b[0m             \u001b[0mkill_query_timer\u001b[0m\u001b[0;34m.\u001b[0m\u001b[0mcancel\u001b[0m\u001b[0;34m(\u001b[0m\u001b[0;34m)\u001b[0m\u001b[0;34m\u001b[0m\u001b[0m\n",
      "\u001b[0;31mOperationalError\u001b[0m: (2013, 'Lost connection to MySQL server during query')"
     ]
    }
   ],
   "source": [
    "from contextlib import closing\n",
    "import threading\n",
    "\n",
    "class Database(object):\n",
    "    conn = None\n",
    "\n",
    "    def __init__(self, config):\n",
    "        self.host = config.get('host')\n",
    "        self.user = config.get('user')\n",
    "        self.password = config.get('password')\n",
    "        self.database = config.get('database')\n",
    "        self.query_timeout = config.get('timeout', 2)\n",
    "\n",
    "    def get_connection(self):\n",
    "        return MySQLdb.connect(\n",
    "            host=self.host,\n",
    "            user=self.user,\n",
    "            db=self.database,\n",
    "            connect_timeout=5,\n",
    "            charset='utf8'\n",
    "        )\n",
    "        \n",
    "    def connect(self):\n",
    "        self.conn = self.get_connection()\n",
    "        self.conn.autocommit(True)  # for InnoDB\n",
    "        with closing(self.conn.cursor()) as cursor:\n",
    "            cursor.execute(\"SELECT CONNECTION_ID()\")\n",
    "            self.conn.id = cursor.fetchone()[0]\n",
    "        print \"Successfully connected with id %s\" % self.conn.id\n",
    "\n",
    "    def _harakiri(self, conn_id):\n",
    "        # could also use thread.interrupt_main() or os._exit(1)\n",
    "        conn = self.get_connection()\n",
    "        print \"Killing %s\" % conn_id\n",
    "        with closing(conn.cursor()) as cursor:\n",
    "            cursor.execute(\"KILL CONNECTION %s\", (conn_id,))\n",
    "        conn.close()\n",
    "        \n",
    "    def query(self, sql, params=()):\n",
    "        try:\n",
    "            self.conn.ping()\n",
    "        except:\n",
    "            self.connect()\n",
    "\n",
    "        kill_query_timer = threading.Timer(self.query_timeout, self._harakiri, args=(self.conn.id,))\n",
    "        kill_query_timer.start()\n",
    "        try:\n",
    "            with closing(self.conn.cursor()) as cursor:\n",
    "                cursor.execute(sql, params)\n",
    "                return self.dictfetchall(cursor)\n",
    "        except Exception, e:\n",
    "            raise e\n",
    "        finally:\n",
    "            kill_query_timer.cancel()\n",
    "\n",
    "    @staticmethod\n",
    "    def dictfetchall(cursor):\n",
    "        \"Returns all rows from a cursor as a dict\"\n",
    "        desc = cursor.description\n",
    "        return [\n",
    "            dict(zip([col[0] for col in desc], row))\n",
    "            for row in cursor.fetchall()\n",
    "        ]\n",
    "\n",
    "db = Database({\"host\": \"localhost\", \"user\": \"root\", \"database\": \"imdb\"})\n",
    "db.query(\"SELECT SLEEP(5)\")"
   ]
  },
  {
   "cell_type": "markdown",
   "metadata": {},
   "source": [
    "#### Concurrent access"
   ]
  },
  {
   "cell_type": "code",
   "execution_count": 86,
   "metadata": {
    "collapsed": true,
    "jupyter": {
     "outputs_hidden": true
    }
   },
   "outputs": [],
   "source": [
    "DB_LOCK = threading.Lock()\n",
    "\n",
    "def send_heartbeat(host):\n",
    "    update_query = \"\"\"\n",
    "        REPLACE INTO `servers`\n",
    "        SET `host` = %s, `heartbeat` = NOW()\n",
    "        \"\"\"\n",
    "    try:\n",
    "        with DB_LOCK:\n",
    "            lib.getdb('db').execute(update_query, host)\n",
    "    except Exception, e:\n",
    "        logging.warning(\"Cannot send heartbeat: %s\", repr(e))"
   ]
  },
  {
   "cell_type": "code",
   "execution_count": 114,
   "metadata": {},
   "outputs": [],
   "source": [
    "import threading\n",
    "import time\n",
    "import MySQLdb\n",
    "\n",
    "\n",
    "class DBThread(threading.Thread):\n",
    "    def __init__(self, conn, cur, name):\n",
    "        threading.Thread.__init__(self)\n",
    "        self.conn = conn\n",
    "        self.cur = cur\n",
    "        self.name = name\n",
    "\n",
    "    def run(self): \n",
    "        insql = \"INSERT INTO cheese(type) VALUES (%s)\"\n",
    "        delsql = \"DELETE FROM cheese WHERE type=%s\"\n",
    "        self.cur.execute(insql, (self.name,))\n",
    "        self.conn.commit()\n",
    "        self.cur.execute(delsql, (self.name,))\n",
    "        self.conn.commit()\n",
    "        self.cur.close()\n",
    "        self.conn.close()\n",
    "\n",
    "threads = []\n",
    "names = [\"cheese1\", \"cheese2\", \"cheese3\", \"cheese4\", \"cheese5\"]\n",
    "\n",
    "for name in names:\n",
    "    conn = MySQLdb.connect(host='localhost',user='root',db='test')\n",
    "    cur = conn.cursor()\n",
    "    t = DBThread(conn, cur, name)\n",
    "    threads.append(t)\n",
    "\n",
    "for th in threads:\n",
    "    th.start()\n",
    "\n",
    "for t in threads:\n",
    "    t.join()"
   ]
  },
  {
   "cell_type": "markdown",
   "metadata": {},
   "source": [
    "#### Connection pool"
   ]
  },
  {
   "cell_type": "code",
   "execution_count": 115,
   "metadata": {
    "collapsed": true,
    "jupyter": {
     "outputs_hidden": true
    }
   },
   "outputs": [],
   "source": [
    "def _get_connection_from_pool(key):\n",
    "    \"\"\"\n",
    "        First get from the queue with no wait\n",
    "    \"\"\"\n",
    "    q = _d_connection_queue.get(key)\n",
    "    connection = None\n",
    "    try:\n",
    "        connection = q.get_nowait()\n",
    "    except Empty:\n",
    "        print \"Connections exhausted\"\n",
    "    if not connection:\n",
    "        if _get_connected_count(key) < _max_size:\n",
    "            print 'create extra connection less than max size'\n",
    "            connection = _create_new_connection_from_key(key)\n",
    "        else:\n",
    "            try:\n",
    "                connection = q.get(timeout=_max_wait_time)\n",
    "            except Empty:\n",
    "                print 'waiting connection timeout'\n",
    "    if connection:\n",
    "        _update_connected_count(key, 1)\n",
    "    return connection\n",
    "\n",
    "\n",
    "def _release_connection(key, connection):\n",
    "    if connection:\n",
    "        q = _d_connection_queue[key]\n",
    "        if _get_connected_count(key) > _max_size:\n",
    "            connection.close()\n",
    "        else:\n",
    "            q.put_nowait(connection)\n",
    "    _update_connected_count(key, -1)"
   ]
  },
  {
   "cell_type": "markdown",
   "metadata": {},
   "source": [
    "#### Caching"
   ]
  },
  {
   "cell_type": "markdown",
   "metadata": {},
   "source": [
    "\"There are 2 hard problems in computer science: cache invalidation, naming things, and off-by-1 errors.\""
   ]
  },
  {
   "cell_type": "code",
   "execution_count": 116,
   "metadata": {
    "collapsed": true,
    "jupyter": {
     "outputs_hidden": true
    }
   },
   "outputs": [],
   "source": [
    "class Calendar(object):\n",
    "    __calendar_cache = {'holidays': set(), 'unholidays': set(), 'timestamp': datetime.datetime.now() - datetime.timedelta(days=2)}\n",
    "    def __init__(self):\n",
    "        if datetime.datetime.now() - self.__calendar_cache['timestamp'] > datetime.timedelta(days=1):\n",
    "            sql = \"SELECT * FROM holidays_calendar\"\n",
    "            days = db.query(sql)\n",
    "            for day in days:\n",
    "                if day['is_holiday']:\n",
    "                    self.__calendar_cache['holidays'].add(day['date'])\n",
    "                else:\n",
    "                    self.__calendar_cache['unholidays'].add(day['date'])\n",
    "            self.__calendar_cache['timestamp'] = datetime.datetime.now()\n",
    "\n",
    "    def check_holiday(self, d):\n",
    "        if d not in self.__calendar_cache['unholidays']:\n",
    "            if d.weekday() in (5,6) or d in self.__calendar_cache['holidays']:\n",
    "                return True\n",
    "        return False\n",
    "\n",
    "    def check_unholiday(self, d):\n",
    "        if d not in self.__calendar_cache['holidays']:\n",
    "            if d.weekday() not in (5,6) or d in self.__calendar_cache['unholidays']:\n",
    "                return True\n",
    "        return False"
   ]
  },
  {
   "cell_type": "markdown",
   "metadata": {},
   "source": [
    "### References"
   ]
  },
  {
   "cell_type": "markdown",
   "metadata": {},
   "source": [
    "* https://www.python.org/dev/peps/pep-0249/\n",
    "* http://docs.peewee-orm.com/en/latest/index.html\n",
    "* http://mysql-python.sourceforge.net/MySQLdb.html\n",
    "* https://docs.ponyorm.com/database.html\n",
    "* https://en.wikipedia.org/wiki/SQL_injection"
   ]
  },
  {
   "cell_type": "markdown",
   "metadata": {},
   "source": [
    "### Summary"
   ]
  },
  {
   "cell_type": "markdown",
   "metadata": {},
   "source": [
    "* know your database\n",
    "* know your database connector\n",
    "* beware of idle connections\n",
    "* timeout everything\n",
    "* don't use one connection from many threads without lock\n",
    "* use pooling to improve performance but don't leak connections\n",
    "* use caching to reduce load but don't forget to invalidate"
   ]
  },
  {
   "cell_type": "markdown",
   "metadata": {},
   "source": [
    "## Daemons"
   ]
  },
  {
   "cell_type": "markdown",
   "metadata": {
    "collapsed": true,
    "jupyter": {
     "outputs_hidden": true
    }
   },
   "source": [
    "#### Daemonization"
   ]
  },
  {
   "cell_type": "code",
   "execution_count": 128,
   "metadata": {
    "collapsed": true,
    "jupyter": {
     "outputs_hidden": true
    }
   },
   "outputs": [],
   "source": [
    "import os\n",
    "import sys\n",
    "\n",
    "UMASK = 0\n",
    "WORKDIR = \"/\"\n",
    "MAXFD = 1024\n",
    "if (hasattr(os, \"devnull\")):\n",
    "    REDIRECT_TO = os.devnull\n",
    "else:\n",
    "    REDIRECT_TO = \"/dev/null\"\n",
    "\n",
    "def create_daemon():\n",
    "    try:\n",
    "        # 1. makes the shell think that the command is done\n",
    "        # 2. guaranteed that the child is not a process group leader for setsid\n",
    "        pid = os.fork()\n",
    "    except OSError, e:\n",
    "        raise Exception, \"%s [%d]\" % (e.strerror, e.errno)\n",
    "\n",
    "    if (pid == 0):\n",
    "        # 1. becomes a session leader of a new session\n",
    "        # 2. becomes the process group leader of a new process group\n",
    "        # 3. has no controlling terminal\n",
    "        os.setsid()\n",
    "        try:\n",
    "            # 1. makes second child orphaned - init process responsible for cleanup\n",
    "            # 2. no longer a session leader - prevents from acquiring a controlling terminal\n",
    "            pid = os.fork()\n",
    "        except OSError, e:\n",
    "            raise Exception, \"%s [%d]\" % (e.strerror, e.errno)\n",
    "\n",
    "        if (pid == 0):\n",
    "            os.chdir(WORKDIR)\n",
    "            os.umask(UMASK)\n",
    "        else:\n",
    "            os._exit(0)\n",
    "    else:\n",
    "        os._exit(0)\n",
    "\n",
    "    import resource\n",
    "    maxfd = resource.getrlimit(resource.RLIMIT_NOFILE)[1]\n",
    "    if (maxfd == resource.RLIM_INFINITY):\n",
    "        maxfd = MAXFD\n",
    "  \n",
    "    for fd in range(0, maxfd):\n",
    "        try:\n",
    "            os.close(fd)\n",
    "        except OSError:\n",
    "            pass\n",
    "\n",
    "    os.open(REDIRECT_TO, os.O_RDWR)\n",
    "    os.dup2(0, 1)           # standard output (1)\n",
    "    os.dup2(0, 2)           # standard error (2)\n",
    "    return 0"
   ]
  },
  {
   "cell_type": "markdown",
   "metadata": {},
   "source": [
    "Session (SID) → Process Group (PGID) → Process (PID)\n",
    "\n",
    "1. `Parent`    = PID: 28084, PGID: 28084, SID: 28046\n",
    "2. `Fork#1`    = PID: 28085, PGID: 28084, SID: 28046\n",
    "3. `Decouple#1`= PID: 28085, PGID: 28085, SID: 28085\n",
    "4. `Fork#2`    = PID: 28086, PGID: 28085, SID: 28085"
   ]
  },
  {
   "cell_type": "markdown",
   "metadata": {},
   "source": [
    "init-script"
   ]
  },
  {
   "cell_type": "code",
   "execution_count": null,
   "metadata": {
    "collapsed": true,
    "jupyter": {
     "outputs_hidden": true
    }
   },
   "outputs": [],
   "source": [
    "#!/bin/bash\n",
    ". /etc/rc.d/init.d/functions\n",
    "\n",
    "pname=\"otusd\"\n",
    "exe=\"/usr/local/sbin/otusd.py\"\n",
    "pidfile=\"/var/run/${pname}.pid\"\n",
    "lockfile=\"/var/lock/${pname}\"\n",
    "\n",
    "[ -x $exe ] || exit 0\n",
    "\n",
    "RETVAL=0\n",
    "\n",
    "start() {\n",
    "    echo -n \"Starting $pname : \"\n",
    "    if [ -s ${pidfile} ]; then\n",
    "       RETVAL=1\n",
    "       echo -n \"Already running !\" && warning\n",
    "       echo\n",
    "    else\n",
    "       nohup ${exe} >/dev/null 2>&1 &\n",
    "       RETVAL=$?\n",
    "       PID=$!\n",
    "       [ $RETVAL -eq 0 ] && touch ${lockfile} && success || failure\n",
    "       echo\n",
    "       echo $PID > ${pidfile}\n",
    "    fi\n",
    "}\n",
    "\n",
    "stop() {\n",
    "    echo -n \"Shutting down $pname : \"\n",
    "    killproc ${exe}\n",
    "    RETVAL=$?\n",
    "    echo\n",
    "    if [ $RETVAL -eq 0 ]; then\n",
    "        rm -f ${lockfile}\n",
    "        rm -f ${pidfile}\n",
    "    fi\n",
    "}\n",
    "\n",
    "restart() {\n",
    "    echo -n \"Restarting $pname : \"\n",
    "    stop\n",
    "    sleep 2\n",
    "    start\n",
    "}\n",
    "\n",
    "\n",
    "status(){\n",
    "    kill -0 `cat ${pidfile} 2>/dev/null` &> /dev/null\n",
    "    RETVAL=$?\n",
    "    if [ $RETVAL -eq 0 ]; then\n",
    "        echo -e \"$pname is \\033[0;32mrunning\\033[0m\";\n",
    "    else\n",
    "        echo -e \"$pname is \\033[0;31mstopped\\033[0m\";\n",
    "    fi\n",
    "    return $RETVAL\n",
    "}\n",
    "\n",
    "case \"$1\" in\n",
    "    start)\n",
    "        start\n",
    "    ;;\n",
    "    stop)\n",
    "        stop\n",
    "    ;;\n",
    "    status)\n",
    "        status ${pname}\n",
    "    ;;\n",
    "    restart)\n",
    "        restart\n",
    "    ;;\n",
    "    *)\n",
    "        echo \"Usage: $0 {start|stop|status|restart}\"\n",
    "    ;; esac\n",
    "\n",
    "exit 0"
   ]
  },
  {
   "cell_type": "markdown",
   "metadata": {},
   "source": [
    "Systemd"
   ]
  },
  {
   "cell_type": "code",
   "execution_count": null,
   "metadata": {
    "collapsed": true,
    "jupyter": {
     "outputs_hidden": true
    }
   },
   "outputs": [],
   "source": [
    "[Unit]\n",
    "Description=otus daemon example\n",
    "After=network.target\n",
    "\n",
    "[Service]\n",
    "Type=simple\n",
    "ExecStart=/usr/bin/python /usr/local/otus/otus.py\n",
    "Restart=always\n",
    "User=otus\n",
    "PIDFile=/var/run/otus.pid\n",
    "\n",
    "[Install]\n",
    "WantedBy=multi-user.target"
   ]
  },
  {
   "cell_type": "markdown",
   "metadata": {},
   "source": [
    "#### Config"
   ]
  },
  {
   "cell_type": "markdown",
   "metadata": {},
   "source": [
    "Python config"
   ]
  },
  {
   "cell_type": "code",
   "execution_count": null,
   "metadata": {
    "collapsed": true,
    "jupyter": {
     "outputs_hidden": true
    }
   },
   "outputs": [],
   "source": [
    "#!/usr/bin/env python\n",
    "mysql = {'host': 'localhost',\n",
    "         'user': 'root',\n",
    "         'passwd': 'my secret password',\n",
    "         'db': 'write-math'}\n",
    "use_anonymous = True"
   ]
  },
  {
   "cell_type": "code",
   "execution_count": null,
   "metadata": {
    "collapsed": true,
    "jupyter": {
     "outputs_hidden": true
    }
   },
   "outputs": [],
   "source": [
    "#!/usr/bin/env python\n",
    "import databaseconfig as cfg\n",
    "connect(cfg.mysql['host'], cfg.mysql['user'], cfg.mysql['password'])"
   ]
  },
  {
   "cell_type": "markdown",
   "metadata": {},
   "source": [
    "YAML"
   ]
  },
  {
   "cell_type": "raw",
   "metadata": {},
   "source": [
    "mysql:\n",
    "    host: localhost\n",
    "    user: root\n",
    "    passwd: my secret password\n",
    "    db: write-math\n",
    "other:\n",
    "    use_anonymous: yes"
   ]
  },
  {
   "cell_type": "code",
   "execution_count": null,
   "metadata": {
    "collapsed": true,
    "jupyter": {
     "outputs_hidden": true
    }
   },
   "outputs": [],
   "source": [
    "import yaml\n",
    "\n",
    "with open(\"config.yml\", 'r') as ymlfile:\n",
    "    cfg = yaml.load_safe(ymlfile)\n",
    "\n",
    "for section in cfg:\n",
    "    print(section)\n",
    "print(cfg['mysql'])\n",
    "print(cfg['other'])"
   ]
  },
  {
   "cell_type": "markdown",
   "metadata": {},
   "source": [
    "INI"
   ]
  },
  {
   "cell_type": "raw",
   "metadata": {},
   "source": [
    "[mysql]\n",
    "host=localhost\n",
    "user=root\n",
    "passwd=my secret password\n",
    "db=write-math\n",
    "\n",
    "[other]\n",
    "use_anonymous=yes"
   ]
  },
  {
   "cell_type": "code",
   "execution_count": null,
   "metadata": {
    "collapsed": true,
    "jupyter": {
     "outputs_hidden": true
    }
   },
   "outputs": [],
   "source": [
    "#!/usr/bin/env python\n",
    "\n",
    "import ConfigParser\n",
    "import io\n",
    "\n",
    "# Load the configuration file\n",
    "with open(\"config.ini\") as f:\n",
    "    sample_config = f.read()\n",
    "config = ConfigParser.RawConfigParser(allow_no_value=True)\n",
    "config.readfp(io.BytesIO(sample_config))\n",
    "\n",
    "# List all contents\n",
    "print(\"List all contents\")\n",
    "for section in config.sections():\n",
    "    print(\"Section: %s\" % section)\n",
    "    for options in config.options(section):\n",
    "        print(\"x %s:::%s:::%s\" % (options,\n",
    "                                  config.get(section, options),\n",
    "                                  str(type(options))))\n",
    "\n",
    "# Print some contents\n",
    "print(\"\\nPrint some contents\")\n",
    "print(config.get('other', 'use_anonymous'))  # Just get the value\n",
    "print(config.getboolean('other', 'use_anonymous'))  # You know the datatype?"
   ]
  },
  {
   "cell_type": "markdown",
   "metadata": {},
   "source": [
    "JSON"
   ]
  },
  {
   "cell_type": "code",
   "execution_count": null,
   "metadata": {
    "collapsed": true,
    "jupyter": {
     "outputs_hidden": true
    }
   },
   "outputs": [],
   "source": [
    "import json\n",
    "with open('config.json', 'w') as outfile:\n",
    "    json.dump(data, outfile)"
   ]
  },
  {
   "cell_type": "markdown",
   "metadata": {},
   "source": [
    "With default"
   ]
  },
  {
   "cell_type": "code",
   "execution_count": null,
   "metadata": {},
   "outputs": [],
   "source": [
    "#!/usr/bin/env python\n",
    "DEFAULT = {\n",
    "    \"LOGFILE\": \"/var/log/vconverterd.log\",\n",
    "}\n",
    "\n",
    "if __name__ == '__main__':\n",
    "    parser = optparse.OptionParser()\n",
    "    parser.add_option(\"--config\", dest='config_path', action='store', default=CONFIG_FILE)\n",
    "    (options, _args) = parser.parse_args()\n",
    "\n",
    "    config = lib.config_read(options.config_path, DEFAULT)\n",
    "    lib.logging_init(logfile)\n",
    "    logging.getLogger(\"requests\").setLevel(logging.ERROR)\n",
    "    try:\n",
    "        main(config)\n",
    "    except Exception as e:\n",
    "        logging.exception(\"Unhandled exception: %s\", repr(e))\n",
    "        raise\n",
    "    except KeyboardInterrupt:\n",
    "        logging.info('KeyboardInterrupt.')\n",
    "    except SystemExit:\n",
    "        logging.info('SystemExit.')\n",
    "    finally:\n",
    "        logging.info(\"Exiting.\")\n"
   ]
  },
  {
   "cell_type": "markdown",
   "metadata": {},
   "source": [
    "#### Logging"
   ]
  },
  {
   "cell_type": "code",
   "execution_count": null,
   "metadata": {
    "collapsed": true,
    "jupyter": {
     "outputs_hidden": true
    }
   },
   "outputs": [],
   "source": [
    "import logging\n",
    "import datetime\n",
    "\n",
    "from logging.handlers import WatchedFileHandler\n",
    "\n",
    "\n",
    "class LogFormatter(logging.Formatter):\n",
    "    level = 0\n",
    "\n",
    "    def format(self, record):\n",
    "        ret = \"[%s] %s %s\" % (\n",
    "            self.formatTime(record),\n",
    "            record.levelname[0].upper(),\n",
    "            record.getMessage()\n",
    "        )\n",
    "        if record.exc_info:\n",
    "            ret += \"\\n\" + self.formatException(record.exc_info)\n",
    "        return ret\n",
    "\n",
    "    def formatTime(self, record, datefmt=None):\n",
    "        d = datetime.datetime.fromtimestamp(record.created)\n",
    "        return \"%s\" % d.strftime(\"%d.%m.%Y %H:%M:%S\")\n",
    "\n",
    "\n",
    "def logging_init(logfile=None, level=logging.DEBUG, clear=True):\n",
    "    root = logging.getLogger()\n",
    "    root.setLevel(level)\n",
    "\n",
    "    if clear:\n",
    "        for hdlr in root.handlers:\n",
    "            root.removeHandler(hdlr)\n",
    "\n",
    "    if logfile is None:\n",
    "        hdlr = logging.StreamHandler()\n",
    "    else:\n",
    "        hdlr = WatchedFileHandler(logfile)\n",
    "\n",
    "    fmt = LogFormatter()\n",
    "    hdlr.setFormatter(fmt)\n",
    "    root.addHandler(hdlr)"
   ]
  },
  {
   "cell_type": "raw",
   "metadata": {},
   "source": [
    "[23.07.2017 15:02:20] I Read: 165058758. In queue: 5 * 300\n",
    "[23.07.2017 15:02:22] I Waiting for queue to empty\n",
    "[23.07.2017 15:02:22] I Queue size: 5 * 300\n",
    "[23.07.2017 15:02:32] I 142549760 profiles processed, 142549760 refreshed\n",
    "[23.07.2017 15:02:32] I Exiting."
   ]
  },
  {
   "cell_type": "markdown",
   "metadata": {},
   "source": [
    "### References"
   ]
  },
  {
   "cell_type": "markdown",
   "metadata": {},
   "source": [
    "* http://code.activestate.com/recipes/278731-creating-a-daemon-the-python-way/\n",
    "* http://www.gavinj.net/2012/06/building-python-daemon-process.html\n",
    "* https://habrahabr.ru/company/southbridge/blog/255845/\n",
    "* http://ptgmedia.pearsoncmg.com/images/9780321637734/samplepages/0321637739.pdf\n",
    "* http://www.gavinj.net/2012/06/building-python-daemon-process.html\n",
    "* https://martin-thoma.com/configuration-files-in-python/"
   ]
  },
  {
   "cell_type": "markdown",
   "metadata": {},
   "source": [
    "### Summary"
   ]
  },
  {
   "cell_type": "markdown",
   "metadata": {},
   "source": [
    "* daemon is long-lived process running in a background\n",
    "* non-system daemon should have confing somwhere at /usr/local/etc\n",
    "* daemon should write logs in specified format somwhere to /var/log/daemon_name/daemon_name.log"
   ]
  },
  {
   "cell_type": "markdown",
   "metadata": {},
   "source": [
    "## Deployment"
   ]
  },
  {
   "cell_type": "markdown",
   "metadata": {
    "collapsed": true,
    "jupyter": {
     "outputs_hidden": true
    }
   },
   "source": [
    "#### Python-only"
   ]
  },
  {
   "cell_type": "markdown",
   "metadata": {},
   "source": [
    "* PyPi"
   ]
  },
  {
   "cell_type": "raw",
   "metadata": {},
   "source": [
    ".\n",
    "|--- archive/\n",
    "     |--- MyPackage/\n",
    "          |--- MyPackage.tar.gz"
   ]
  },
  {
   "cell_type": "code",
   "execution_count": null,
   "metadata": {
    "collapsed": true,
    "jupyter": {
     "outputs_hidden": true
    }
   },
   "outputs": [],
   "source": [
    "python -m SimpleHTTPServer 9000\n",
    "pip install --extra-index-url=http://127.0.0.1:9000/ MyPackage"
   ]
  },
  {
   "cell_type": "markdown",
   "metadata": {},
   "source": [
    "* Wheels vs Eggs"
   ]
  },
  {
   "cell_type": "markdown",
   "metadata": {},
   "source": [
    "#### Linux distribution"
   ]
  },
  {
   "cell_type": "markdown",
   "metadata": {},
   "source": [
    "* package management \n",
    "* fpm\n",
    "    * fpm -s python -t rpm pytz"
   ]
  },
  {
   "cell_type": "raw",
   "metadata": {},
   "source": [
    "License:        BSD\n",
    "Vendor:         s.stupnikov\n",
    "Group:          s.stupnikov\n",
    "URL:            https://github.com/s-stupnikov/\n",
    "Source0:        otus_example.tar.gz\n",
    "BuildRoot:      %{_tmppath}/otus_example\n",
    "Name:           otus_example\n",
    "Version:        0.0.1\n",
    "Release:        1\n",
    "Group:          System Environment/Libraries\n",
    "Requires:       python\n",
    "Requires:       python-requests\n",
    "Requires:       python-tarantool\n",
    "BuildArch:      noarch\n",
    "Summary:        Example for Otus.ru\n",
    "\n",
    "%description\n",
    "Example for Python Developer course at Otus.ru\n",
    "\n",
    "%define __bindir /usr/local/otus_example\n",
    "%define __etcdir /usr/local/etc\n",
    "\n",
    "%prep\n",
    "rm -rf %{buildroot}\n",
    "%setup -n otus_example\n",
    "\n",
    "%build\n",
    "touch path/inside/unpacked/archive/otus_example.conf\n",
    "\n",
    "%install\n",
    "[ \"%{buildroot}\" != \"/\" ] && rm -fr %{buildroot}\n",
    "%{__mkdir} -p %{buildroot}%{__bindir}\n",
    "%{__mkdir} -p %{buildroot}%{__etcdir}\n",
    "\n",
    "%{__install} -pD -m 755 path/inside/unpacked/archive/otus_example.py %{buildroot}/%{__bindir}/otus_example.py\n",
    "%{__install} -pD -m 644 path/inside/unpacked/archive/otus_example.conf %{buildroot}/%{__etcdir}/otus_example.conf\n",
    "\n",
    "%clean\n",
    "rm -rf $RPM_BUILD_ROOT\n",
    "\n",
    "%files\n",
    "%{__bindir}/*\n",
    "%config(noreplace) %{__etcdir}/*.conf\n"
   ]
  },
  {
   "cell_type": "markdown",
   "metadata": {},
   "source": [
    "#### Executable ZIP files"
   ]
  },
  {
   "cell_type": "code",
   "execution_count": 131,
   "metadata": {},
   "outputs": [
    {
     "name": "stdout",
     "output_type": "stream",
     "text": [
      "ping!\n"
     ]
    }
   ],
   "source": [
    "if __name__ == '__main__': \n",
    "    try:\n",
    "        print 'ping!'\n",
    "    except SyntaxError: # Python 3\n",
    "        print('ping!')"
   ]
  },
  {
   "cell_type": "raw",
   "metadata": {},
   "source": [
    "zip machine.zip __main__.py"
   ]
  },
  {
   "cell_type": "raw",
   "metadata": {},
   "source": [
    "$ python machine.zip\n",
    "ping!"
   ]
  },
  {
   "cell_type": "markdown",
   "metadata": {},
   "source": [
    "Making an executable file"
   ]
  },
  {
   "cell_type": "raw",
   "metadata": {},
   "source": [
    "$ echo '#!/usr/bin/env python' > machine\n",
    "$ cat machine.zip >> machine\n",
    "$ chmod u+x machine"
   ]
  },
  {
   "cell_type": "raw",
   "metadata": {},
   "source": [
    "$ ./machine\n",
    "ping!"
   ]
  },
  {
   "cell_type": "markdown",
   "metadata": {},
   "source": [
    "### References"
   ]
  },
  {
   "cell_type": "markdown",
   "metadata": {},
   "source": [
    "* https://antonz.org/python-packaging/\n",
    "* https://packaging.python.org/tutorials/distributing-packages/\n",
    "* https://packaging.python.org/discussions/wheel-vs-egg/\n",
    "* https://code.tutsplus.com/tutorials/how-to-write-package-and-distribute-a-library-in-python--cms-28693"
   ]
  },
  {
   "cell_type": "markdown",
   "metadata": {},
   "source": [
    "### Summary"
   ]
  },
  {
   "cell_type": "markdown",
   "metadata": {},
   "source": [
    "* use PyPI for libraries or Python-only distributions\n",
    "* use OS package management system for the “right way” to distribute code on Linux"
   ]
  }
 ],
 "metadata": {
  "kernelspec": {
   "display_name": "Python 3 (ipykernel)",
   "language": "python",
   "name": "python3"
  },
  "language_info": {
   "codemirror_mode": {
    "name": "ipython",
    "version": 3
   },
   "file_extension": ".py",
   "mimetype": "text/x-python",
   "name": "python",
   "nbconvert_exporter": "python",
   "pygments_lexer": "ipython3",
   "version": "3.11.6"
  }
 },
 "nbformat": 4,
 "nbformat_minor": 4
}
